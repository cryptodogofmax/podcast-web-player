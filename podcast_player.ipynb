{
 "cells": [
  {
   "cell_type": "code",
   "execution_count": 1,
   "metadata": {},
   "outputs": [],
   "source": [
    "%load_ext lab_black\n",
    "import pickle\n",
    "import feedparser"
   ]
  },
  {
   "cell_type": "code",
   "execution_count": null,
   "metadata": {},
   "outputs": [],
   "source": [
    "the_economist_rss_link = \"https://rss.acast.com/theeconomistallaudio\"\n",
    "Feed = feedparser.parse(the_economist_rss_link)"
   ]
  },
  {
   "cell_type": "code",
   "execution_count": null,
   "metadata": {},
   "outputs": [],
   "source": [
    "the_daily_rss_link = \"https://feeds.simplecast.com/54nAGcIl\"\n",
    "Feed_the_daily = feedparser.parse(the_daily_rss_link)"
   ]
  },
  {
   "cell_type": "code",
   "execution_count": null,
   "metadata": {},
   "outputs": [],
   "source": [
    "the_npr_politics_rss = \"https://feeds.npr.org/510310/podcast.xml\"\n",
    "Feed_the_npr_politics = feedparser.parse(the_npr_politics_rss)"
   ]
  },
  {
   "cell_type": "code",
   "execution_count": null,
   "metadata": {},
   "outputs": [],
   "source": [
    "the_bankless_rss = \"http://podcast.banklesshq.com/rss\"\n",
    "Feed_the_bankless = feedparser.parse(the_bankless_rss)"
   ]
  },
  {
   "cell_type": "code",
   "execution_count": null,
   "metadata": {},
   "outputs": [],
   "source": [
    "the_sheng_espresso_rss = \"https://feeds.fireside.fm/sheng-espresso/rss\"\n",
    "Feed_the_sheng_expresso = feedparser.parse(the_sheng_espresso_rss)"
   ]
  },
  {
   "cell_type": "code",
   "execution_count": null,
   "metadata": {},
   "outputs": [],
   "source": [
    "the_contrary_rss = \"https://onthecontrary.libsyn.com/rss\"\n",
    "Feed_the_contrary = feedparser.parse(the_contrary_rss)"
   ]
  },
  {
   "cell_type": "code",
   "execution_count": null,
   "metadata": {},
   "outputs": [],
   "source": [
    "the_failure_rss = \"https://anchor.fm/s/60d69380/podcast/rss\"\n",
    "Feed = feedparser.parse(the_failure_rss)"
   ]
  },
  {
   "cell_type": "code",
   "execution_count": null,
   "metadata": {},
   "outputs": [],
   "source": [
    "the_3_things_rss = \"https://www.spreaker.com/show/5008053/episodes/feed\"\n",
    "Feed = feedparser.parse(the_3_things_rss)"
   ]
  },
  {
   "cell_type": "code",
   "execution_count": null,
   "metadata": {},
   "outputs": [],
   "source": [
    "the_lunhuan_rss = \"https://lunhuan.typlog.io/episodes/feed.xml\"\n",
    "Feed = feedparser.parse(the_lunhuan_rss)"
   ]
  },
  {
   "cell_type": "code",
   "execution_count": 12,
   "metadata": {},
   "outputs": [],
   "source": [
    "the_hbr_rss = \"http://feeds.harvardbusiness.org/harvardbusiness/ideacast\"\n",
    "Feed = feedparser.parse(the_hbr_rss)"
   ]
  },
  {
   "cell_type": "code",
   "execution_count": 25,
   "metadata": {},
   "outputs": [],
   "source": [
    "the_exponential_rss = (\n",
    "    \"http://feeds.harvardbusiness.org/harvardbusiness/exponential-view\"\n",
    ")\n",
    "Feed = feedparser.parse(the_exponential_rss)"
   ]
  },
  {
   "cell_type": "code",
   "execution_count": 19,
   "metadata": {
    "scrolled": true,
    "tags": []
   },
   "outputs": [
    {
     "data": {
      "text/plain": [
       "{'title': 'Nuclear Fusion’s Time is (Finally) Coming',\n",
       " 'title_detail': {'type': 'text/plain',\n",
       "  'language': None,\n",
       "  'base': 'http://feeds.harvardbusiness.org/harvardbusiness/exponential-view',\n",
       "  'value': 'Nuclear Fusion’s Time is (Finally) Coming'},\n",
       " 'links': [{'rel': 'alternate',\n",
       "   'type': 'text/html',\n",
       "   'href': 'https://hbr.org/podcast/2021/12/nuclear-fusions-time-is-finally-coming'},\n",
       "  {'length': '44232640',\n",
       "   'type': 'audio/mpeg',\n",
       "   'href': 'https://audio.hbr.org/exponential-view/20211206144111-NuclearFusion_sTimeisFinallyComing.mp3',\n",
       "   'rel': 'enclosure'}],\n",
       " 'link': 'https://hbr.org/podcast/2021/12/nuclear-fusions-time-is-finally-coming',\n",
       " 'summary': 'Nuclear fusion seems to have been “twenty years away” forever, but recent advances could mean fusion is finally on its way to becoming part of our energy mix. Azeem Azhar speaks to Nick Hawker, co-founder and CEO of First Light Fusion, and explores how their “projectile fusion” approach might produce abundant, sustainable energy.',\n",
       " 'summary_detail': {'type': 'text/html',\n",
       "  'language': None,\n",
       "  'base': 'http://feeds.harvardbusiness.org/harvardbusiness/exponential-view',\n",
       "  'value': 'Nuclear fusion seems to have been “twenty years away” forever, but recent advances could mean fusion is finally on its way to becoming part of our energy mix. Azeem Azhar speaks to Nick Hawker, co-founder and CEO of First Light Fusion, and explores how their “projectile fusion” approach might produce abundant, sustainable energy.'},\n",
       " 'itunes_season': '6',\n",
       " 'id': 'tag:audio.hbr.org,2016-11-15:exponential-view.s6.0010',\n",
       " 'guidislink': False,\n",
       " 'media_thumbnail': [{'url': 'https://hbr.org/resources/images/podcasts/1400-exponential-view-lg-3.png'}],\n",
       " 'href': '',\n",
       " 'published': 'Wed, 08 Dec 2021 08:05:25 -0500',\n",
       " 'published_parsed': time.struct_time(tm_year=2021, tm_mon=12, tm_mday=8, tm_hour=13, tm_min=5, tm_sec=25, tm_wday=2, tm_yday=342, tm_isdst=0),\n",
       " 'itunes_title': 'Nuclear Fusion’s Time is (Finally) Coming',\n",
       " 'itunes_explicit': None,\n",
       " 'content': [{'type': 'text/plain',\n",
       "   'language': None,\n",
       "   'base': 'http://feeds.harvardbusiness.org/harvardbusiness/exponential-view',\n",
       "   'value': 'Nuclear fusion seems to have been “twenty years away” forever, but recent advances could mean fusion is finally on its way to becoming part of our energy mix. Azeem Azhar speaks to Nick Hawker, co-founder and CEO of First Light Fusion, and explores how their “projectile fusion” approach might produce abundant, sustainable energy.'},\n",
       "  {'type': 'text/html',\n",
       "   'language': None,\n",
       "   'base': 'http://feeds.harvardbusiness.org/harvardbusiness/exponential-view',\n",
       "   'value': '<p>Nuclear fusion seems to have been &#8220;twenty years away&#8221; forever, but recent advances could mean fusion is finally on its way to becoming part of our energy mix. <strong>Azeem Azhar</strong> speaks to <strong>Nick Hawker</strong>, co-founder and CEO of First Light Fusion, a UK-based company that uses an approach it calls &#8220;projectile fusion&#8221; to generate energy.</p>\\n<p>That method uses an electromagnetic launcher to fire material towards fuel at high speeds. Nick explains why it&#8217;s one of the most promising approaches to a problem that has puzzled physicists for decades. He breaks down the challenges, both extraordinary and mundane, that fusion experiments involve.</p>\\n<p>They also discuss:</p>\\n<ul>\\n<li>Why First Light Fusion&#8217;s system could generate power more efficiently than the sun.</li>\\n<li>When the first fusion reactor could plug into an electrical grid.</li>\\n<li>How many lasers it takes to turn on a light bulb.</li>\\n</ul>\\n<p><a href=\"https://twitter.com/azeem\">@Azeem</a><br />\\n<a href=\"https://twitter.com/flf_nick\">@FLF_Nick</a></p>\\n<p>Further resources</p>\\n<p><a href=\"https://www.talkingpoliticspodcast.com/blog/2021/332-where-is-china-heading\">Investing in Deep Tech for an </a><a href=\"https://www.talkingpoliticspodcast.com/blog/2021/332-where-is-china-heading\">Abundant</a><a href=\"https://www.talkingpoliticspodcast.com/blog/2021/332-where-is-china-heading\"> Future</a> (Exponential View Podcast, 2021)</p>'}],\n",
       " 'subtitle': '',\n",
       " 'subtitle_detail': {'type': 'text/plain',\n",
       "  'language': None,\n",
       "  'base': 'http://feeds.harvardbusiness.org/harvardbusiness/exponential-view',\n",
       "  'value': ''},\n",
       " 'itunes_episode': '10',\n",
       " 'itunes_episodetype': 'full',\n",
       " 'itunes_duration': '2650'}"
      ]
     },
     "execution_count": 19,
     "metadata": {},
     "output_type": "execute_result"
    }
   ],
   "source": [
    "entry0 = Feed.entries[0]\n",
    "entry0"
   ]
  },
  {
   "cell_type": "code",
   "execution_count": 20,
   "metadata": {},
   "outputs": [
    {
     "data": {
      "text/plain": [
       "'2650'"
      ]
     },
     "execution_count": 20,
     "metadata": {},
     "output_type": "execute_result"
    }
   ],
   "source": [
    "entry0[\"itunes_duration\"]"
   ]
  },
  {
   "cell_type": "code",
   "execution_count": 21,
   "metadata": {},
   "outputs": [],
   "source": [
    "def get_mp3_link(entry0):\n",
    "    links = entry0[\"links\"]\n",
    "    link = [link for link in links if \"audio\" in link[\"type\"]]\n",
    "    mp3_link = \"\"\n",
    "    if len(link) == 1:\n",
    "        mp3_link = link[0][\"href\"]\n",
    "    return mp3_link\n",
    "\n",
    "\n",
    "def get_mp3_link_the_daily(entry):\n",
    "    links = entry[\"links\"]\n",
    "    link = [link for link in links if \"audio\" in link[\"type\"]]\n",
    "    mp3_link = \"\"\n",
    "    if len(link) == 1:\n",
    "        mp3_link = link[0][\"href\"]\n",
    "    return mp3_link\n",
    "\n",
    "\n",
    "# get_mp3_link(entry0=entry0)"
   ]
  },
  {
   "cell_type": "code",
   "execution_count": 22,
   "metadata": {},
   "outputs": [],
   "source": [
    "def get_the_daily_episode_info(entry):\n",
    "    published = entry[\"published\"]\n",
    "    title = entry[\"title\"]\n",
    "    mp3_link = get_mp3_link_the_daily(entry=entry)\n",
    "    itunes_duration = entry[\"itunes_duration\"]\n",
    "    return [published, title, itunes_duration, mp3_link]"
   ]
  },
  {
   "cell_type": "code",
   "execution_count": 23,
   "metadata": {},
   "outputs": [
    {
     "data": {
      "text/plain": [
       "['Wed, 08 Dec 2021 08:05:25 -0500',\n",
       " 'Nuclear Fusion’s Time is (Finally) Coming',\n",
       " '2650',\n",
       " 'https://audio.hbr.org/exponential-view/20211206144111-NuclearFusion_sTimeisFinallyComing.mp3']"
      ]
     },
     "execution_count": 23,
     "metadata": {},
     "output_type": "execute_result"
    }
   ],
   "source": [
    "get_the_daily_episode_info(entry=entry0)"
   ]
  },
  {
   "cell_type": "code",
   "execution_count": null,
   "metadata": {
    "tags": []
   },
   "outputs": [],
   "source": [
    "def get_episode_info(entry0):\n",
    "    podcast_links = entry0[\"links\"]\n",
    "    mp3_link = get_mp3_from_links(podcast_links)[0]\n",
    "    published = entry0[\"published\"]\n",
    "    title = entry0[\"title\"]\n",
    "    itunes_duration = entry0[\"itunes_duration\"]\n",
    "    return [published, title, itunes_duration, mp3_link]\n",
    "\n",
    "\n",
    "# entry0 = Feed.entries[0]\n",
    "# get_episode_info(entry0)"
   ]
  },
  {
   "cell_type": "code",
   "execution_count": null,
   "metadata": {},
   "outputs": [],
   "source": [
    "def save_played_episodes():\n",
    "    all_episodes = [get_episode_info(entry) for entry in Feed.entries]\n",
    "    all_episodes_df = get_table_for_episodes(data=all_episodes)\n",
    "    played_episodes = get_played_episodes()\n",
    "    played_episodes_df = episodes[episodes[\"MP3 Link\"].isin(played_episodes)]\n",
    "    played_episodes_df.sort_values(by=[\"Published Date\"])\n",
    "    played_episodes_df.to_excel(\"played_theeconomist.xlsx\")\n",
    "    return played_episodes_df\n",
    "\n",
    "\n",
    "save_played_episodes()"
   ]
  },
  {
   "cell_type": "code",
   "execution_count": null,
   "metadata": {},
   "outputs": [],
   "source": [
    "import pickle\n",
    "import time\n",
    "from time import sleep\n",
    "\n",
    "import emoji\n",
    "import feedparser\n",
    "import numpy as np\n",
    "import pandas as pd\n",
    "import vlc\n",
    "from pyfiglet import Figlet\n",
    "from rich import pretty, print\n",
    "from termcolor import colored, cprint\n",
    "from urlvalidator import ValidationError, validate_url\n",
    "\n",
    "COLUMNS = [\"Published Date\", \"Title\", \"Episode Duration\", \"MP3 Link\"]\n",
    "\n",
    "\n",
    "def get_mp3_from_links(links):\n",
    "    mp3_links = []\n",
    "    for link in links:\n",
    "        for k, v in link.items():\n",
    "            if k == \"href\":\n",
    "                try:\n",
    "                    validate_url(v)\n",
    "                    if v[-4:] == \".mp3\":\n",
    "                        mp3_links.append(v)\n",
    "                except ValidationError:\n",
    "                    raise ValidationError(\"Invalid URL\")\n",
    "    return mp3_links\n",
    "\n",
    "\n",
    "def get_table_for_episodes(data):\n",
    "    df = pd.DataFrame(data=data, columns=COLUMNS)\n",
    "    return df"
   ]
  },
  {
   "cell_type": "code",
   "execution_count": null,
   "metadata": {},
   "outputs": [],
   "source": [
    "def get_all_data_from_rss():\n",
    "    # The Daily\n",
    "    the_daily_rss_link = \"https://feeds.simplecast.com/54nAGcIl\"\n",
    "    Feed_the_daily = feedparser.parse(the_daily_rss_link)\n",
    "    the_daily_data = [\n",
    "        get_the_daily_episode_info(entry=entry)\n",
    "        for entry in Feed_the_daily.entries\n",
    "    ]\n",
    "    # The NPR Politics Podcast\n",
    "    the_npr_politics_rss = \"https://feeds.npr.org/510310/podcast.xml\"\n",
    "    Feed_the_npr_politics = feedparser.parse(the_npr_politics_rss)\n",
    "    the_npr_politics_data = [\n",
    "        get_the_daily_episode_info(entry=entry)\n",
    "        for entry in Feed_the_npr_politics.entries\n",
    "    ]\n",
    "    # The Economist Podcast\n",
    "    THE_ECONOMIST_RSS_LINK = \"https://rss.acast.com/theeconomistallaudio\"\n",
    "    Feed_the_economist = feedparser.parse(THE_ECONOMIST_RSS_LINK)\n",
    "    the_economist_data = [\n",
    "        get_episode_info(entry0=entry)\n",
    "        for entry in Feed_the_economist.entries\n",
    "    ]\n",
    "    total_data = the_daily_data + the_economist_data + the_npr_politics_data\n",
    "    return total_data\n",
    "def get_played_episodes():\n",
    "    PLAYED_EPISODES_PICKLE = \"played_episodes.pkl\"\n",
    "    try:\n",
    "        open_file = open(PLAYED_EPISODES_PICKLE, \"rb\")\n",
    "        played_episodes = pickle.load(open_file)\n",
    "        open_file.close()\n",
    "    except:\n",
    "        played_episodes = []\n",
    "    return played_episodes\n",
    "def get_all_episodes_df(total_data):\n",
    "    total_data = get_all_data()\n",
    "    all_episodes = get_table_for_episodes(data=total_data)\n",
    "    all_episodes.sort_values(by=[\"Published Date\"])\n",
    "    return all_episodes\n",
    "def get_played_episodes_df(episodes, played_episodes):\n",
    "    played_episodes_df = episodes[episodes[\"MP3 Link\"].isin(played_episodes)]\n",
    "    played_episodes_df = played_episodes_df.sort_values(\n",
    "        by=[\"Published Date\"], ascending=False\n",
    "    )\n",
    "    print(f\"\\nUnplayed Episodes: \\n{played_episodes_df}\")\n",
    "    print_in_color(\"Total time to listen: \")\n",
    "    print_total_time(played_episodes_df=played_episodes_df)\n",
    "    return played_episodes_df\n",
    "def save_played_to_excel():\n",
    "    total_data_from_rss=get_all_data_from_rss()\n",
    "    played_episodes=get_played_episodes()\n",
    "    total_data_df=get_all_episodes_df(total_data=total_data_from_rss)\n",
    "    played_episodes_df = get_played_episodes_df(episodes=total_data_df, played_episodes=played_episodes)\n",
    "    played_episodes_df.to_excel(\"played_theeconomist.xlsx\")"
   ]
  },
  {
   "cell_type": "code",
   "execution_count": null,
   "metadata": {},
   "outputs": [],
   "source": [
    "def get_all_data():\n",
    "    N_latest_episodes = 5\n",
    "    # The Daily\n",
    "    the_daily_rss_link = \"https://feeds.simplecast.com/54nAGcIl\"\n",
    "    Feed_the_daily = feedparser.parse(the_daily_rss_link)\n",
    "    the_daily_data = [\n",
    "        get_the_daily_episode_info(entry=entry)\n",
    "        for entry in Feed_the_daily.entries[:N_latest_episodes]\n",
    "    ]\n",
    "    # The NPR Politics Podcast\n",
    "    the_npr_politics_rss = \"https://feeds.npr.org/510310/podcast.xml\"\n",
    "    Feed_the_npr_politics = feedparser.parse(the_npr_politics_rss)\n",
    "    the_npr_politics_data = [\n",
    "        get_the_daily_episode_info(entry=entry)\n",
    "        for entry in Feed_the_npr_politics.entries[:N_latest_episodes]\n",
    "    ]\n",
    "    # The Economist Podcast\n",
    "    THE_ECONOMIST_RSS_LINK = \"https://rss.acast.com/theeconomistallaudio\"\n",
    "    Feed_the_economist = feedparser.parse(THE_ECONOMIST_RSS_LINK)\n",
    "    the_economist_data = [\n",
    "        get_episode_info(entry0=entry)\n",
    "        for entry in Feed_the_economist.entries[:N_latest_episodes]\n",
    "    ]\n",
    "    total_data = the_daily_data + the_economist_data + the_npr_politics_data\n",
    "    return total_data\n",
    "\n",
    "\n",
    "def get_all_episodes_df():\n",
    "    total_data = get_all_data()\n",
    "    all_episodes = get_table_for_episodes(data=total_data)\n",
    "    all_episodes.sort_values(by=[\"Published Date\"])\n",
    "    #     print(f\"All Episodes: \\n{all_episodes}\")\n",
    "    return all_episodes\n",
    "\n",
    "\n",
    "all_episodes = get_all_episodes_df()"
   ]
  },
  {
   "cell_type": "code",
   "execution_count": null,
   "metadata": {},
   "outputs": [],
   "source": [
    "t1 = all_episodes[\"Published Date\"].iloc[0]\n",
    "type(t1)"
   ]
  },
  {
   "cell_type": "code",
   "execution_count": null,
   "metadata": {},
   "outputs": [],
   "source": [
    "from dateutil import parser\n",
    "\n",
    "parser.parse(t1)"
   ]
  },
  {
   "cell_type": "code",
   "execution_count": null,
   "metadata": {},
   "outputs": [],
   "source": [
    "import pandas as pd\n",
    "from dateutil import parser\n",
    "\n",
    "# all_episodes[\"Published Date\"] = all_episodes[\"Published Date\"].apply(parser.parse)\n",
    "all_episodes = all_episodes.sort_values(by=[\"Published Date\"], ascending=False)\n",
    "\n",
    "# all_episodes[\"Published Date\"] = pd.to_datetime(all_episodes[\"Published Date\"])\n",
    "\n",
    "# df = df.sort_values(by=\"date\")\n",
    "all_episodes"
   ]
  },
  {
   "cell_type": "code",
   "execution_count": null,
   "metadata": {},
   "outputs": [],
   "source": [
    "# print(all_episodes.to_string())\n",
    "# from tabulate import tabulate\n",
    "\n",
    "# print(tabulate(all_episodes, headers=\"keys\", tablefmt=\"psql\"))\n",
    "# print(all_episodes.to_markdown())\n",
    "all_episodes"
   ]
  },
  {
   "cell_type": "code",
   "execution_count": null,
   "metadata": {},
   "outputs": [],
   "source": [
    "# current_playing = episodes.head(1)\n",
    "# current_playing"
   ]
  },
  {
   "cell_type": "code",
   "execution_count": null,
   "metadata": {},
   "outputs": [],
   "source": [
    "current_playing[\"Title\"].iloc[0]"
   ]
  },
  {
   "cell_type": "code",
   "execution_count": null,
   "metadata": {},
   "outputs": [],
   "source": [
    "played_in_excel = pd.read_excel(\"played_theeconomist.xlsx\", engine=\"openpyxl\")\n",
    "played_in_excel"
   ]
  },
  {
   "cell_type": "code",
   "execution_count": null,
   "metadata": {},
   "outputs": [],
   "source": [
    "played_in_excel = pd.read_excel(\"played_theeconomist.xlsx\", engine=\"openpyxl\")\n",
    "played_in_excel = played_in_excel[\n",
    "    [\"Published Date\", \"Title\", \"Episode Duration\", \"MP3 Link\"]\n",
    "]\n",
    "played_in_excel.append(current_playing, ignore_index=True)\n",
    "current_playing = current_playing[\n",
    "    [\"Published Date\", \"Title\", \"Episode Duration\", \"MP3 Link\"]\n",
    "]\n",
    "played_in_excel.sort_values(by=[\"Published Date\"])\n",
    "played_in_excel"
   ]
  },
  {
   "cell_type": "code",
   "execution_count": null,
   "metadata": {},
   "outputs": [],
   "source": [
    "played_in_excel.to_excel(\"testing.xlsx\")"
   ]
  },
  {
   "cell_type": "code",
   "execution_count": null,
   "metadata": {},
   "outputs": [],
   "source": [
    "import pandas as pd\n",
    "\n",
    "data = [get_episode_info(entry) for entry in Feed.entries]\n",
    "\n",
    "\n",
    "def get_table_for_episodes(data):\n",
    "    df = pd.DataFrame(\n",
    "        data=data, columns=[\"Published Date\", \"Title\", \"Episode Duration\", \"MP3 Link\"]\n",
    "    )\n",
    "    return df\n",
    "\n",
    "\n",
    "episodes = get_table_for_episodes(data=data)\n",
    "episodes"
   ]
  },
  {
   "cell_type": "code",
   "execution_count": null,
   "metadata": {},
   "outputs": [],
   "source": [
    "played_episodes = get_played_episodes()\n",
    "played_episodes"
   ]
  },
  {
   "cell_type": "code",
   "execution_count": null,
   "metadata": {},
   "outputs": [],
   "source": [
    "played_episodes_df = episodes[episodes[\"MP3 Link\"].isin(played_episodes)]\n",
    "played_episodes_df.sort_values(by=[\"Published Date\"])\n",
    "played_episodes_df"
   ]
  },
  {
   "cell_type": "code",
   "execution_count": null,
   "metadata": {},
   "outputs": [],
   "source": [
    "def get_unplayed_episodes_df():\n",
    "    unplayed_episodes_df = episodes[~episodes[\"MP3 Link\"].isin(played_episodes)]\n",
    "    unplayed_episodes_df.sort_values(by=[\"Published Date\"])\n",
    "    return unplayed_episodes_df\n",
    "\n",
    "\n",
    "unplayed_episodes_df = get_unplayed_episodes_df()\n",
    "unplayed_episodes_df"
   ]
  },
  {
   "cell_type": "code",
   "execution_count": null,
   "metadata": {},
   "outputs": [],
   "source": [
    "unplayed_episodes_df[\"MP3 Link\"].iloc[0]"
   ]
  },
  {
   "cell_type": "code",
   "execution_count": null,
   "metadata": {},
   "outputs": [],
   "source": [
    "durations = played_episodes_df[\"Episode Duration\"].tolist()\n",
    "d1 = durations[0]\n",
    "\n",
    "\n",
    "def get_total_seconds(d1):\n",
    "    hh, mm, ss = d1.split(\":\")\n",
    "    total_seconds = int(ss) + 60 * int(mm) + 60 * 60 * int(hh)\n",
    "    return total_seconds\n",
    "\n",
    "\n",
    "def get_total_time(played_episodes_df):\n",
    "    durations = played_episodes_df[\"Episode Duration\"].tolist()\n",
    "    seconds_list = [get_total_seconds(d) for d in durations]\n",
    "    total_in_seconds = sum(seconds_list)\n",
    "    ss = total_in_seconds % 60\n",
    "    mm = int((total_in_seconds - ss) / 60 % 60)\n",
    "    hh = int((total_in_seconds - ss - 60 * mm) / 3600)\n",
    "    print(f\"{hh} hours {mm} minutes {ss} seconds\")\n",
    "\n",
    "\n",
    "get_total_time(played_episodes_df=played_episodes_df)"
   ]
  },
  {
   "cell_type": "code",
   "execution_count": null,
   "metadata": {},
   "outputs": [],
   "source": [
    "played_episodes_df.to_excel(\"played_theeconomist.xlsx\")"
   ]
  },
  {
   "cell_type": "code",
   "execution_count": null,
   "metadata": {
    "scrolled": true,
    "tags": []
   },
   "outputs": [],
   "source": [
    "%%time\n",
    "Feed = feedparser.parse(the_economist_rss_link)\n",
    "entry0 = Feed.entries[3]\n",
    "entry0"
   ]
  },
  {
   "cell_type": "code",
   "execution_count": null,
   "metadata": {
    "scrolled": true,
    "tags": []
   },
   "outputs": [],
   "source": [
    "links = entry0[\"links\"]\n",
    "published = entry0[\"published\"]\n",
    "published"
   ]
  },
  {
   "cell_type": "code",
   "execution_count": null,
   "metadata": {},
   "outputs": [],
   "source": [
    "def get_published_as_key(published):\n",
    "    published = published.replace(\" \", \"\")\n",
    "    published = published.replace(\":\", \"\")\n",
    "    published = published.replace(\",\", \"\")\n",
    "    return published"
   ]
  },
  {
   "cell_type": "code",
   "execution_count": null,
   "metadata": {},
   "outputs": [],
   "source": [
    "from urlvalidator import validate_url, ValidationError\n",
    "\n",
    "\n",
    "def get_mp3_from_links(links):\n",
    "    mp3_links = []\n",
    "    for link in links:\n",
    "        for k, v in link.items():\n",
    "            if k == \"href\":\n",
    "                try:\n",
    "                    validate_url(v)\n",
    "                    if v[-4:] == \".mp3\":\n",
    "                        mp3_links.append(v)\n",
    "                except ValidationError:\n",
    "                    raise ValidationError(\"Invalid URL\")\n",
    "    return mp3_links\n",
    "\n",
    "\n",
    "# get_mp3_from_links(links=links)"
   ]
  },
  {
   "cell_type": "code",
   "execution_count": null,
   "metadata": {},
   "outputs": [],
   "source": [
    "# def get_mp3_played_durations(links, played_links):\n",
    "#     length = 0\n",
    "#     p = 0\n",
    "#     for link in links:\n",
    "#         for k, v in link.items():\n",
    "#             if k == \"href\":\n",
    "#                 try:\n",
    "#                     validate_url(v)\n",
    "#                     if v[-4:] == \".mp3\":\n",
    "#                         if v in played_links:\n",
    "#                             p += 1\n",
    "#                             length += int(link[\"length\"])\n",
    "#                 except ValidationError:\n",
    "#                     raise ValidationError(\"Invalid URL\")\n",
    "#     duration = audio_duration(length=length)\n",
    "#     print(f\"p: {p}\")\n",
    "#     return duration\n",
    "\n",
    "\n",
    "# get_mp3_played_durations(links=links, played_links=set(played_episodes))"
   ]
  },
  {
   "cell_type": "code",
   "execution_count": null,
   "metadata": {},
   "outputs": [],
   "source": [
    "def get_all_mp3(entries):\n",
    "    mp3s = []\n",
    "    for entry in entries:\n",
    "        links = entry[\"links\"]\n",
    "        published = entry[\"published\"]\n",
    "        mp3_links = get_mp3_from_links(links)\n",
    "        mp3s += mp3_links\n",
    "    return mp3s\n",
    "\n",
    "\n",
    "all_mp3 = get_all_mp3(entries=Feed.entries)\n",
    "len(all_mp3)"
   ]
  },
  {
   "cell_type": "code",
   "execution_count": null,
   "metadata": {
    "scrolled": true,
    "tags": []
   },
   "outputs": [],
   "source": [
    "all_mp3"
   ]
  },
  {
   "cell_type": "code",
   "execution_count": null,
   "metadata": {
    "scrolled": true,
    "tags": []
   },
   "outputs": [],
   "source": [
    "%%time\n",
    "import feedparser\n",
    "\n",
    "Feed = feedparser.parse(the_economist_rss_link)\n",
    "all_mp3 = get_all_mp3(entries=Feed.entries)\n",
    "all_mp3"
   ]
  },
  {
   "cell_type": "code",
   "execution_count": null,
   "metadata": {
    "scrolled": true,
    "tags": []
   },
   "outputs": [],
   "source": [
    "all_mp3[:58]"
   ]
  },
  {
   "cell_type": "code",
   "execution_count": 9,
   "metadata": {
    "tags": []
   },
   "outputs": [
    {
     "name": "stdout",
     "output_type": "stream",
     "text": [
      "30\n"
     ]
    },
    {
     "data": {
      "text/html": [
       "<pre style=\"white-space:pre;overflow-x:auto;line-height:normal;font-family:Menlo,'DejaVu Sans Mono',consolas,'Courier New',monospace\">\n",
       "<span style=\"font-weight: bold\">[</span>\n",
       "    <span style=\"color: #008000; text-decoration-color: #008000\">'https://sphinx.acast.com/theeconomistallaudio/theworldahead/theworldahead-theeagleandthedragon/media.mp3'</span>,\n",
       "    <span style=\"color: #008000; text-decoration-color: #008000\">'http://traffic.libsyn.com/bankless/2021.12.9_WRU_December_2.mp3?dest-id=1859771'</span>,\n",
       "    <span style=\"color: #008000; text-decoration-color: #008000\">'https://sphinx.acast.com/theeconomistallaudio/theintelligencepodcast/centrifugalforces-irannucleartalksresume/media.mp3'</span>,\n",
       "    <span style=\"color: #008000; text-decoration-color: #008000\">'https://dts.podtrac.com/redirect.mp3/chrt.fm/track/8DB4DB/pdst.fm/e/nyt.simplecastaudio.com/03d8b493-87fc-4bd1-931f-8a8e9b945d8a/episodes/4f9a4390-d07f-44dc-aabf-f87dece9fbd1/audio/128/default.mp3?aid=rss_feed&amp;awCollectionId=03d8b493-87fc-4bd1-931f-8a8e9b945d8a&amp;awEpisodeId=4f9a4390-d07f-44dc-aabf-f87dece9fbd1&amp;feed=54nAGcIl'</span>,\n",
       "    <span style=\"color: #008000; text-decoration-color: #008000\">'https://play.podtrac.com/npr-510310/edge1.pod.npr.org/anon.npr-mp3/npr/nprpolitics/2021/12/20211202_nprpolitics_120221politicspodcast.mp3?awCollectionId=510310&amp;awEpisodeId=1061044346&amp;orgId=1&amp;d=832&amp;p=510310&amp;story=1061044346&amp;t=podcast&amp;e=1061044346&amp;size=13321658&amp;ft=pod&amp;f=510310'</span>,\n",
       "    <span style=\"color: #008000; text-decoration-color: #008000\">'https://sphinx.acast.com/theeconomistallaudio/theintelligencepodcast/thefirstsentenceofthestory-aungsansuukyi/media.mp3'</span>,\n",
       "    <span style=\"color: #008000; text-decoration-color: #008000\">'https://sphinx.acast.com/theeconomistallaudio/theintelligencepodcast/offthewarpath-america80yearsafterpearlharbour/media.mp3'</span>,\n",
       "    <span style=\"color: #008000; text-decoration-color: #008000\">'https://sphinx.acast.com/theeconomistallaudio/theintelligencepodcast/roeblow-scotusweighsabortionrights/media.mp3'</span>,\n",
       "    <span style=\"color: #008000; text-decoration-color: #008000\">'https://sphinx.acast.com/theeconomistallaudio/theeconomistasks/theeconomistasks-ericcantor/media.mp3'</span>,\n",
       "    <span style=\"color: #008000; text-decoration-color: #008000\">'https://play.podtrac.com/npr-510310/edge1.pod.npr.org/anon.npr-mp3/npr/nprpolitics/2021/12/20211201_nprpolitics_120121politicspodcast.mp3?awCollectionId=510310&amp;awEpisodeId=1060610347&amp;orgId=1&amp;d=894&amp;p=510310&amp;story=1060610347&amp;t=podcast&amp;e=1060610347&amp;size=14304698&amp;ft=pod&amp;f=510310'</span>,\n",
       "    <span style=\"color: #008000; text-decoration-color: #008000\">'https://sphinx.acast.com/theeconomistallaudio/theeconomistbabbage/babbage-omicronandon/media.mp3'</span>,\n",
       "    <span style=\"color: #008000; text-decoration-color: #008000\">'https://play.podtrac.com/npr-510310/edge1.pod.npr.org/anon.npr-mp3/npr/nprpolitics/2021/12/20211203_nprpolitics_120321politicspodcast.mp3?awCollectionId=510310&amp;awEpisodeId=1061326912&amp;orgId=1&amp;d=1494&amp;p=510310&amp;story=1061326912&amp;t=podcast&amp;e=1061326912&amp;size=23918177&amp;ft=pod&amp;f=510310'</span>,\n",
       "    <span style=\"color: #008000; text-decoration-color: #008000\">'https://sphinx.acast.com/theeconomistallaudio/checksandbalance/checksandbalance-taiwanwonder/media.mp3'</span>,\n",
       "    <span style=\"color: #008000; text-decoration-color: #008000\">'https://sphinx.acast.com/theeconomistallaudio/theintelligencepodcast/taiwanthingafteranother-thesolomonislands/media.mp3'</span>,\n",
       "    <span style=\"color: #008000; text-decoration-color: #008000\">'https://sphinx.acast.com/theeconomistallaudio/theeconomistbabbage/babbage-goodbyedarkness-myoldfriend/media.mp3'</span>,\n",
       "    <span style=\"color: #008000; text-decoration-color: #008000\">'https://sphinx.acast.com/theeconomistallaudio/theeconomistmoneytalks/moneytalks-omicronomics/media.mp3'</span>,\n",
       "    <span style=\"color: #008000; text-decoration-color: #008000\">'https://dts.podtrac.com/redirect.mp3/chrt.fm/track/8DB4DB/pdst.fm/e/nyt.simplecastaudio.com/03d8b493-87fc-4bd1-931f-8a8e9b945d8a/episodes/a25ef25a-56e0-4dca-9ece-ff835e8336bf/audio/128/default.mp3?aid=rss_feed&amp;awCollectionId=03d8b493-87fc-4bd1-931f-8a8e9b945d8a&amp;awEpisodeId=a25ef25a-56e0-4dca-9ece-ff835e8336bf&amp;feed=54nAGcIl'</span>,\n",
       "    <span style=\"color: #008000; text-decoration-color: #008000\">'https://dts.podtrac.com/redirect.mp3/chrt.fm/track/8DB4DB/pdst.fm/e/nyt.simplecastaudio.com/03d8b493-87fc-4bd1-931f-8a8e9b945d8a/episodes/e7d47081-01f3-426c-8f22-c117171ba5f5/audio/128/default.mp3?aid=rss_feed&amp;awCollectionId=03d8b493-87fc-4bd1-931f-8a8e9b945d8a&amp;awEpisodeId=e7d47081-01f3-426c-8f22-c117171ba5f5&amp;feed=54nAGcIl'</span>,\n",
       "    <span style=\"color: #008000; text-decoration-color: #008000\">'https://sphinx.acast.com/theeconomistallaudio/theeconomisteditorspicks/editor-spicks-december6th2021/media.mp3'</span>,\n",
       "    <span style=\"color: #008000; text-decoration-color: #008000\">'https://sphinx.acast.com/theeconomistallaudio/theintelligencepodcast/cdulater-angelamerkel-ssuccessor/media.mp3'</span>,\n",
       "    <span style=\"color: #008000; text-decoration-color: #008000\">'https://sphinx.acast.com/theeconomistallaudio/theintelligencepodcast/thehousethatjackbuilt-twitter-sfounderdeparts/media.mp3'</span>,\n",
       "    <span style=\"color: #008000; text-decoration-color: #008000\">'https://sphinx.acast.com/theeconomistallaudio/checksandbalance/checksandbalance-courtingcontroversy/media.mp3'</span>,\n",
       "    <span style=\"color: #008000; text-decoration-color: #008000\">'https://dts.podtrac.com/redirect.mp3/chrt.fm/track/8DB4DB/pdst.fm/e/nyt.simplecastaudio.com/03d8b493-87fc-4bd1-931f-8a8e9b945d8a/episodes/049bb822-b8d7-4e29-86b3-77328022101f/audio/128/default.mp3?aid=rss_feed&amp;awCollectionId=03d8b493-87fc-4bd1-931f-8a8e9b945d8a&amp;awEpisodeId=049bb822-b8d7-4e29-86b3-77328022101f&amp;feed=54nAGcIl'</span>,\n",
       "    <span style=\"color: #008000; text-decoration-color: #008000\">'https://aphid.fireside.fm/d/1437767933/12647593-905b-40ef-8977-371837f74e89/495fb43c-6a24-4b2d-a148-9f8291116987.mp3'</span>,\n",
       "    <span style=\"color: #008000; text-decoration-color: #008000\">'https://api.spreaker.com/download/episode/47867663/catch_up_2021_december_10_v1.mp3'</span>,\n",
       "    <span style=\"color: #008000; text-decoration-color: #008000\">'https://play.podtrac.com/npr-510310/edge1.pod.npr.org/anon.npr-mp3/npr/nprpolitics/2021/12/20211206_nprpolitics_120621politicspodcast.mp3?awCollectionId=510310&amp;awEpisodeId=1061893017&amp;orgId=1&amp;d=925&amp;p=510310&amp;story=1061893017&amp;t=podcast&amp;e=1061893017&amp;size=14810846&amp;ft=pod&amp;f=510310'</span>,\n",
       "    <span style=\"color: #008000; text-decoration-color: #008000\">'https://play.podtrac.com/npr-510310/edge1.pod.npr.org/anon.npr-mp3/npr/nprpolitics/2021/12/20211207_nprpolitics_120721politicspodcast.mp3?awCollectionId=510310&amp;awEpisodeId=1062189783&amp;orgId=1&amp;d=855&amp;p=510310&amp;story=1062189783&amp;t=podcast&amp;e=1062189783&amp;size=13693223&amp;ft=pod&amp;f=510310'</span>,\n",
       "    <span style=\"color: #008000; text-decoration-color: #008000\">'https://dts.podtrac.com/redirect.mp3/chrt.fm/track/8DB4DB/pdst.fm/e/nyt.simplecastaudio.com/03d8b493-87fc-4bd1-931f-8a8e9b945d8a/episodes/105376fb-f573-4b62-ac4d-a8adfa84ae88/audio/128/default.mp3?aid=rss_feed&amp;awCollectionId=03d8b493-87fc-4bd1-931f-8a8e9b945d8a&amp;awEpisodeId=105376fb-f573-4b62-ac4d-a8adfa84ae88&amp;feed=54nAGcIl'</span>,\n",
       "    <span style=\"color: #008000; text-decoration-color: #008000\">'https://sphinx.acast.com/theeconomistallaudio/theworldahead/theworldahead-yearthree/media.mp3'</span>,\n",
       "    <span style=\"color: #008000; text-decoration-color: #008000\">'https://play.podtrac.com/npr-510310/edge1.pod.npr.org/anon.npr-mp3/npr/nprpolitics/2021/12/20211210_nprpolitics_121021politicspodcast.mp3?awCollectionId=510310&amp;awEpisodeId=1063174739&amp;orgId=1&amp;d=1615&amp;p=510310&amp;story=1063174739&amp;t=podcast&amp;e=1063174739&amp;size=25840789&amp;ft=pod&amp;f=510310'</span>\n",
       "<span style=\"font-weight: bold\">]</span>\n",
       "</pre>\n"
      ],
      "text/plain": [
       "\n",
       "\u001b[1m[\u001b[0m\n",
       "    \u001b[32m'https://sphinx.acast.com/theeconomistallaudio/theworldahead/theworldahead-theeagleandthedragon/media.mp3'\u001b[0m,\n",
       "    \u001b[32m'http://traffic.libsyn.com/bankless/2021.12.9_WRU_December_2.mp3?dest-\u001b[0m\u001b[32mid\u001b[0m\u001b[32m=\u001b[0m\u001b[32m1859771\u001b[0m\u001b[32m'\u001b[0m,\n",
       "    \u001b[32m'https://sphinx.acast.com/theeconomistallaudio/theintelligencepodcast/centrifugalforces-irannucleartalksresume/media.mp3'\u001b[0m,\n",
       "    \u001b[32m'https://dts.podtrac.com/redirect.mp3/chrt.fm/track/8DB4DB/pdst.fm/e/nyt.simplecastaudio.com/03d8b493-87fc-4bd1-931f-8a8e9b945d8a/episodes/4f9a4390-d07f-44dc-aabf-f87dece9fbd1/audio/128/default.mp3?\u001b[0m\u001b[32maid\u001b[0m\u001b[32m=\u001b[0m\u001b[32mrss_feed\u001b[0m\u001b[32m&\u001b[0m\u001b[32mawCollectionId\u001b[0m\u001b[32m=\u001b[0m\u001b[32m03d8b493\u001b[0m\u001b[32m-87fc-4bd1-931f-8a8e9b945d8a&\u001b[0m\u001b[32mawEpisodeId\u001b[0m\u001b[32m=\u001b[0m\u001b[32m4f9a4390\u001b[0m\u001b[32m-d07f-44dc-aabf-f87dece9fbd1&\u001b[0m\u001b[32mfeed\u001b[0m\u001b[32m=\u001b[0m\u001b[32m54nAGcIl\u001b[0m\u001b[32m'\u001b[0m,\n",
       "    \u001b[32m'https://play.podtrac.com/npr-510310/edge1.pod.npr.org/anon.npr-mp3/npr/nprpolitics/2021/12/20211202_nprpolitics_120221politicspodcast.mp3?\u001b[0m\u001b[32mawCollectionId\u001b[0m\u001b[32m=\u001b[0m\u001b[32m510310\u001b[0m\u001b[32m&\u001b[0m\u001b[32mawEpisodeId\u001b[0m\u001b[32m=\u001b[0m\u001b[32m1061044346\u001b[0m\u001b[32m&\u001b[0m\u001b[32morgId\u001b[0m\u001b[32m=\u001b[0m\u001b[32m1\u001b[0m\u001b[32m&\u001b[0m\u001b[32md\u001b[0m\u001b[32m=\u001b[0m\u001b[32m832\u001b[0m\u001b[32m&\u001b[0m\u001b[32mp\u001b[0m\u001b[32m=\u001b[0m\u001b[32m510310\u001b[0m\u001b[32m&\u001b[0m\u001b[32mstory\u001b[0m\u001b[32m=\u001b[0m\u001b[32m1061044346\u001b[0m\u001b[32m&\u001b[0m\u001b[32mt\u001b[0m\u001b[32m=\u001b[0m\u001b[32mpodcast\u001b[0m\u001b[32m&\u001b[0m\u001b[32me\u001b[0m\u001b[32m=\u001b[0m\u001b[32m1061044346\u001b[0m\u001b[32m&\u001b[0m\u001b[32msize\u001b[0m\u001b[32m=\u001b[0m\u001b[32m13321658\u001b[0m\u001b[32m&\u001b[0m\u001b[32mft\u001b[0m\u001b[32m=\u001b[0m\u001b[32mpod\u001b[0m\u001b[32m&\u001b[0m\u001b[32mf\u001b[0m\u001b[32m=\u001b[0m\u001b[32m510310\u001b[0m\u001b[32m'\u001b[0m,\n",
       "    \u001b[32m'https://sphinx.acast.com/theeconomistallaudio/theintelligencepodcast/thefirstsentenceofthestory-aungsansuukyi/media.mp3'\u001b[0m,\n",
       "    \u001b[32m'https://sphinx.acast.com/theeconomistallaudio/theintelligencepodcast/offthewarpath-america80yearsafterpearlharbour/media.mp3'\u001b[0m,\n",
       "    \u001b[32m'https://sphinx.acast.com/theeconomistallaudio/theintelligencepodcast/roeblow-scotusweighsabortionrights/media.mp3'\u001b[0m,\n",
       "    \u001b[32m'https://sphinx.acast.com/theeconomistallaudio/theeconomistasks/theeconomistasks-ericcantor/media.mp3'\u001b[0m,\n",
       "    \u001b[32m'https://play.podtrac.com/npr-510310/edge1.pod.npr.org/anon.npr-mp3/npr/nprpolitics/2021/12/20211201_nprpolitics_120121politicspodcast.mp3?\u001b[0m\u001b[32mawCollectionId\u001b[0m\u001b[32m=\u001b[0m\u001b[32m510310\u001b[0m\u001b[32m&\u001b[0m\u001b[32mawEpisodeId\u001b[0m\u001b[32m=\u001b[0m\u001b[32m1060610347\u001b[0m\u001b[32m&\u001b[0m\u001b[32morgId\u001b[0m\u001b[32m=\u001b[0m\u001b[32m1\u001b[0m\u001b[32m&\u001b[0m\u001b[32md\u001b[0m\u001b[32m=\u001b[0m\u001b[32m894\u001b[0m\u001b[32m&\u001b[0m\u001b[32mp\u001b[0m\u001b[32m=\u001b[0m\u001b[32m510310\u001b[0m\u001b[32m&\u001b[0m\u001b[32mstory\u001b[0m\u001b[32m=\u001b[0m\u001b[32m1060610347\u001b[0m\u001b[32m&\u001b[0m\u001b[32mt\u001b[0m\u001b[32m=\u001b[0m\u001b[32mpodcast\u001b[0m\u001b[32m&\u001b[0m\u001b[32me\u001b[0m\u001b[32m=\u001b[0m\u001b[32m1060610347\u001b[0m\u001b[32m&\u001b[0m\u001b[32msize\u001b[0m\u001b[32m=\u001b[0m\u001b[32m14304698\u001b[0m\u001b[32m&\u001b[0m\u001b[32mft\u001b[0m\u001b[32m=\u001b[0m\u001b[32mpod\u001b[0m\u001b[32m&\u001b[0m\u001b[32mf\u001b[0m\u001b[32m=\u001b[0m\u001b[32m510310\u001b[0m\u001b[32m'\u001b[0m,\n",
       "    \u001b[32m'https://sphinx.acast.com/theeconomistallaudio/theeconomistbabbage/babbage-omicronandon/media.mp3'\u001b[0m,\n",
       "    \u001b[32m'https://play.podtrac.com/npr-510310/edge1.pod.npr.org/anon.npr-mp3/npr/nprpolitics/2021/12/20211203_nprpolitics_120321politicspodcast.mp3?\u001b[0m\u001b[32mawCollectionId\u001b[0m\u001b[32m=\u001b[0m\u001b[32m510310\u001b[0m\u001b[32m&\u001b[0m\u001b[32mawEpisodeId\u001b[0m\u001b[32m=\u001b[0m\u001b[32m1061326912\u001b[0m\u001b[32m&\u001b[0m\u001b[32morgId\u001b[0m\u001b[32m=\u001b[0m\u001b[32m1\u001b[0m\u001b[32m&\u001b[0m\u001b[32md\u001b[0m\u001b[32m=\u001b[0m\u001b[32m1494\u001b[0m\u001b[32m&\u001b[0m\u001b[32mp\u001b[0m\u001b[32m=\u001b[0m\u001b[32m510310\u001b[0m\u001b[32m&\u001b[0m\u001b[32mstory\u001b[0m\u001b[32m=\u001b[0m\u001b[32m1061326912\u001b[0m\u001b[32m&\u001b[0m\u001b[32mt\u001b[0m\u001b[32m=\u001b[0m\u001b[32mpodcast\u001b[0m\u001b[32m&\u001b[0m\u001b[32me\u001b[0m\u001b[32m=\u001b[0m\u001b[32m1061326912\u001b[0m\u001b[32m&\u001b[0m\u001b[32msize\u001b[0m\u001b[32m=\u001b[0m\u001b[32m23918177\u001b[0m\u001b[32m&\u001b[0m\u001b[32mft\u001b[0m\u001b[32m=\u001b[0m\u001b[32mpod\u001b[0m\u001b[32m&\u001b[0m\u001b[32mf\u001b[0m\u001b[32m=\u001b[0m\u001b[32m510310\u001b[0m\u001b[32m'\u001b[0m,\n",
       "    \u001b[32m'https://sphinx.acast.com/theeconomistallaudio/checksandbalance/checksandbalance-taiwanwonder/media.mp3'\u001b[0m,\n",
       "    \u001b[32m'https://sphinx.acast.com/theeconomistallaudio/theintelligencepodcast/taiwanthingafteranother-thesolomonislands/media.mp3'\u001b[0m,\n",
       "    \u001b[32m'https://sphinx.acast.com/theeconomistallaudio/theeconomistbabbage/babbage-goodbyedarkness-myoldfriend/media.mp3'\u001b[0m,\n",
       "    \u001b[32m'https://sphinx.acast.com/theeconomistallaudio/theeconomistmoneytalks/moneytalks-omicronomics/media.mp3'\u001b[0m,\n",
       "    \u001b[32m'https://dts.podtrac.com/redirect.mp3/chrt.fm/track/8DB4DB/pdst.fm/e/nyt.simplecastaudio.com/03d8b493-87fc-4bd1-931f-8a8e9b945d8a/episodes/a25ef25a-56e0-4dca-9ece-ff835e8336bf/audio/128/default.mp3?\u001b[0m\u001b[32maid\u001b[0m\u001b[32m=\u001b[0m\u001b[32mrss_feed\u001b[0m\u001b[32m&\u001b[0m\u001b[32mawCollectionId\u001b[0m\u001b[32m=\u001b[0m\u001b[32m03d8b493\u001b[0m\u001b[32m-87fc-4bd1-931f-8a8e9b945d8a&\u001b[0m\u001b[32mawEpisodeId\u001b[0m\u001b[32m=\u001b[0m\u001b[32ma25ef25a\u001b[0m\u001b[32m-56e0-4dca-9ece-ff835e8336bf&\u001b[0m\u001b[32mfeed\u001b[0m\u001b[32m=\u001b[0m\u001b[32m54nAGcIl\u001b[0m\u001b[32m'\u001b[0m,\n",
       "    \u001b[32m'https://dts.podtrac.com/redirect.mp3/chrt.fm/track/8DB4DB/pdst.fm/e/nyt.simplecastaudio.com/03d8b493-87fc-4bd1-931f-8a8e9b945d8a/episodes/e7d47081-01f3-426c-8f22-c117171ba5f5/audio/128/default.mp3?\u001b[0m\u001b[32maid\u001b[0m\u001b[32m=\u001b[0m\u001b[32mrss_feed\u001b[0m\u001b[32m&\u001b[0m\u001b[32mawCollectionId\u001b[0m\u001b[32m=\u001b[0m\u001b[32m03d8b493\u001b[0m\u001b[32m-87fc-4bd1-931f-8a8e9b945d8a&\u001b[0m\u001b[32mawEpisodeId\u001b[0m\u001b[32m=\u001b[0m\u001b[32me7d47081\u001b[0m\u001b[32m-01f3-426c-8f22-c117171ba5f5&\u001b[0m\u001b[32mfeed\u001b[0m\u001b[32m=\u001b[0m\u001b[32m54nAGcIl\u001b[0m\u001b[32m'\u001b[0m,\n",
       "    \u001b[32m'https://sphinx.acast.com/theeconomistallaudio/theeconomisteditorspicks/editor-spicks-december6th2021/media.mp3'\u001b[0m,\n",
       "    \u001b[32m'https://sphinx.acast.com/theeconomistallaudio/theintelligencepodcast/cdulater-angelamerkel-ssuccessor/media.mp3'\u001b[0m,\n",
       "    \u001b[32m'https://sphinx.acast.com/theeconomistallaudio/theintelligencepodcast/thehousethatjackbuilt-twitter-sfounderdeparts/media.mp3'\u001b[0m,\n",
       "    \u001b[32m'https://sphinx.acast.com/theeconomistallaudio/checksandbalance/checksandbalance-courtingcontroversy/media.mp3'\u001b[0m,\n",
       "    \u001b[32m'https://dts.podtrac.com/redirect.mp3/chrt.fm/track/8DB4DB/pdst.fm/e/nyt.simplecastaudio.com/03d8b493-87fc-4bd1-931f-8a8e9b945d8a/episodes/049bb822-b8d7-4e29-86b3-77328022101f/audio/128/default.mp3?\u001b[0m\u001b[32maid\u001b[0m\u001b[32m=\u001b[0m\u001b[32mrss_feed\u001b[0m\u001b[32m&\u001b[0m\u001b[32mawCollectionId\u001b[0m\u001b[32m=\u001b[0m\u001b[32m03d8b493\u001b[0m\u001b[32m-87fc-4bd1-931f-8a8e9b945d8a&\u001b[0m\u001b[32mawEpisodeId\u001b[0m\u001b[32m=\u001b[0m\u001b[32m049bb822\u001b[0m\u001b[32m-b8d7-4e29-86b3-77328022101f&\u001b[0m\u001b[32mfeed\u001b[0m\u001b[32m=\u001b[0m\u001b[32m54nAGcIl\u001b[0m\u001b[32m'\u001b[0m,\n",
       "    \u001b[32m'https://aphid.fireside.fm/d/1437767933/12647593-905b-40ef-8977-371837f74e89/495fb43c-6a24-4b2d-a148-9f8291116987.mp3'\u001b[0m,\n",
       "    \u001b[32m'https://api.spreaker.com/download/episode/47867663/catch_up_2021_december_10_v1.mp3'\u001b[0m,\n",
       "    \u001b[32m'https://play.podtrac.com/npr-510310/edge1.pod.npr.org/anon.npr-mp3/npr/nprpolitics/2021/12/20211206_nprpolitics_120621politicspodcast.mp3?\u001b[0m\u001b[32mawCollectionId\u001b[0m\u001b[32m=\u001b[0m\u001b[32m510310\u001b[0m\u001b[32m&\u001b[0m\u001b[32mawEpisodeId\u001b[0m\u001b[32m=\u001b[0m\u001b[32m1061893017\u001b[0m\u001b[32m&\u001b[0m\u001b[32morgId\u001b[0m\u001b[32m=\u001b[0m\u001b[32m1\u001b[0m\u001b[32m&\u001b[0m\u001b[32md\u001b[0m\u001b[32m=\u001b[0m\u001b[32m925\u001b[0m\u001b[32m&\u001b[0m\u001b[32mp\u001b[0m\u001b[32m=\u001b[0m\u001b[32m510310\u001b[0m\u001b[32m&\u001b[0m\u001b[32mstory\u001b[0m\u001b[32m=\u001b[0m\u001b[32m1061893017\u001b[0m\u001b[32m&\u001b[0m\u001b[32mt\u001b[0m\u001b[32m=\u001b[0m\u001b[32mpodcast\u001b[0m\u001b[32m&\u001b[0m\u001b[32me\u001b[0m\u001b[32m=\u001b[0m\u001b[32m1061893017\u001b[0m\u001b[32m&\u001b[0m\u001b[32msize\u001b[0m\u001b[32m=\u001b[0m\u001b[32m14810846\u001b[0m\u001b[32m&\u001b[0m\u001b[32mft\u001b[0m\u001b[32m=\u001b[0m\u001b[32mpod\u001b[0m\u001b[32m&\u001b[0m\u001b[32mf\u001b[0m\u001b[32m=\u001b[0m\u001b[32m510310\u001b[0m\u001b[32m'\u001b[0m,\n",
       "    \u001b[32m'https://play.podtrac.com/npr-510310/edge1.pod.npr.org/anon.npr-mp3/npr/nprpolitics/2021/12/20211207_nprpolitics_120721politicspodcast.mp3?\u001b[0m\u001b[32mawCollectionId\u001b[0m\u001b[32m=\u001b[0m\u001b[32m510310\u001b[0m\u001b[32m&\u001b[0m\u001b[32mawEpisodeId\u001b[0m\u001b[32m=\u001b[0m\u001b[32m1062189783\u001b[0m\u001b[32m&\u001b[0m\u001b[32morgId\u001b[0m\u001b[32m=\u001b[0m\u001b[32m1\u001b[0m\u001b[32m&\u001b[0m\u001b[32md\u001b[0m\u001b[32m=\u001b[0m\u001b[32m855\u001b[0m\u001b[32m&\u001b[0m\u001b[32mp\u001b[0m\u001b[32m=\u001b[0m\u001b[32m510310\u001b[0m\u001b[32m&\u001b[0m\u001b[32mstory\u001b[0m\u001b[32m=\u001b[0m\u001b[32m1062189783\u001b[0m\u001b[32m&\u001b[0m\u001b[32mt\u001b[0m\u001b[32m=\u001b[0m\u001b[32mpodcast\u001b[0m\u001b[32m&\u001b[0m\u001b[32me\u001b[0m\u001b[32m=\u001b[0m\u001b[32m1062189783\u001b[0m\u001b[32m&\u001b[0m\u001b[32msize\u001b[0m\u001b[32m=\u001b[0m\u001b[32m13693223\u001b[0m\u001b[32m&\u001b[0m\u001b[32mft\u001b[0m\u001b[32m=\u001b[0m\u001b[32mpod\u001b[0m\u001b[32m&\u001b[0m\u001b[32mf\u001b[0m\u001b[32m=\u001b[0m\u001b[32m510310\u001b[0m\u001b[32m'\u001b[0m,\n",
       "    \u001b[32m'https://dts.podtrac.com/redirect.mp3/chrt.fm/track/8DB4DB/pdst.fm/e/nyt.simplecastaudio.com/03d8b493-87fc-4bd1-931f-8a8e9b945d8a/episodes/105376fb-f573-4b62-ac4d-a8adfa84ae88/audio/128/default.mp3?\u001b[0m\u001b[32maid\u001b[0m\u001b[32m=\u001b[0m\u001b[32mrss_feed\u001b[0m\u001b[32m&\u001b[0m\u001b[32mawCollectionId\u001b[0m\u001b[32m=\u001b[0m\u001b[32m03d8b493\u001b[0m\u001b[32m-87fc-4bd1-931f-8a8e9b945d8a&\u001b[0m\u001b[32mawEpisodeId\u001b[0m\u001b[32m=\u001b[0m\u001b[32m105376fb\u001b[0m\u001b[32m-f573-4b62-ac4d-a8adfa84ae88&\u001b[0m\u001b[32mfeed\u001b[0m\u001b[32m=\u001b[0m\u001b[32m54nAGcIl\u001b[0m\u001b[32m'\u001b[0m,\n",
       "    \u001b[32m'https://sphinx.acast.com/theeconomistallaudio/theworldahead/theworldahead-yearthree/media.mp3'\u001b[0m,\n",
       "    \u001b[32m'https://play.podtrac.com/npr-510310/edge1.pod.npr.org/anon.npr-mp3/npr/nprpolitics/2021/12/20211210_nprpolitics_121021politicspodcast.mp3?\u001b[0m\u001b[32mawCollectionId\u001b[0m\u001b[32m=\u001b[0m\u001b[32m510310\u001b[0m\u001b[32m&\u001b[0m\u001b[32mawEpisodeId\u001b[0m\u001b[32m=\u001b[0m\u001b[32m1063174739\u001b[0m\u001b[32m&\u001b[0m\u001b[32morgId\u001b[0m\u001b[32m=\u001b[0m\u001b[32m1\u001b[0m\u001b[32m&\u001b[0m\u001b[32md\u001b[0m\u001b[32m=\u001b[0m\u001b[32m1615\u001b[0m\u001b[32m&\u001b[0m\u001b[32mp\u001b[0m\u001b[32m=\u001b[0m\u001b[32m510310\u001b[0m\u001b[32m&\u001b[0m\u001b[32mstory\u001b[0m\u001b[32m=\u001b[0m\u001b[32m1063174739\u001b[0m\u001b[32m&\u001b[0m\u001b[32mt\u001b[0m\u001b[32m=\u001b[0m\u001b[32mpodcast\u001b[0m\u001b[32m&\u001b[0m\u001b[32me\u001b[0m\u001b[32m=\u001b[0m\u001b[32m1063174739\u001b[0m\u001b[32m&\u001b[0m\u001b[32msize\u001b[0m\u001b[32m=\u001b[0m\u001b[32m25840789\u001b[0m\u001b[32m&\u001b[0m\u001b[32mft\u001b[0m\u001b[32m=\u001b[0m\u001b[32mpod\u001b[0m\u001b[32m&\u001b[0m\u001b[32mf\u001b[0m\u001b[32m=\u001b[0m\u001b[32m510310\u001b[0m\u001b[32m'\u001b[0m\n",
       "\u001b[1m]\u001b[0m\n"
      ]
     },
     "metadata": {},
     "output_type": "display_data"
    }
   ],
   "source": [
    "import pickle\n",
    "\n",
    "\n",
    "def get_played_episodes():\n",
    "    PLAYED_EPISODES_PICKLE = \"played_episodes.pkl\"\n",
    "    open_file = open(PLAYED_EPISODES_PICKLE, \"rb\")\n",
    "    played_episodes = pickle.load(open_file)\n",
    "    open_file.close()\n",
    "    return played_episodes\n",
    "\n",
    "\n",
    "played_episodes = get_played_episodes()\n",
    "print(len(played_episodes))\n",
    "played_episodes"
   ]
  },
  {
   "cell_type": "code",
   "execution_count": null,
   "metadata": {},
   "outputs": [],
   "source": [
    "print(played_episodes[-1])"
   ]
  },
  {
   "cell_type": "code",
   "execution_count": null,
   "metadata": {
    "scrolled": true,
    "tags": []
   },
   "outputs": [],
   "source": [
    "def get_unplayed_episodes(played_episodes):\n",
    "    unplayed_episodes = [x for x in all_mp3 if x not in played_episodes]\n",
    "    return unplayed_episodes\n",
    "\n",
    "\n",
    "unplayed_episodes = get_unplayed_episodes(played_episodes=played_episodes)\n",
    "unplayed_episodes"
   ]
  },
  {
   "cell_type": "code",
   "execution_count": 1,
   "metadata": {},
   "outputs": [
    {
     "name": "stdout",
     "output_type": "stream",
     "text": [
      "\u001b[1m\u001b[34m🎧 Max Podcast Player 🎧\u001b[0m\n",
      "\u001b[1m\u001b[34m           _                  _             \n",
      "|\\/| _.   |_)_  _| _ _. __|_ |_)| _.   _ ._ \n",
      "|  |(_|>< | (_)(_|(_(_|_> |_ |  |(_|\\/(/_|  \n",
      "                                    /       \n",
      "\u001b[0m\n",
      "\u001b[1m\u001b[34m\n",
      "Played Episodes: \n",
      "   Published Date                                              Title  \\\n",
      "6      2021-12-10  Weekly Roundup: Texas' 6-Week Abortion Ban Wil...   \n",
      "12     2021-12-10                  Checks and Balance: Taiwan wonder   \n",
      "30     2021-12-10                          The Catch Up: 10 December   \n",
      "0      2021-12-10  ROLLUP: Vitalik's Endgame, Pepsi & Adidas NFTs...   \n",
      "13     2021-12-10  Unsafe as houses? Evergrande and China’s big p...   \n",
      "14     2021-12-08               CDU later: Angela Merkel’s successor   \n",
      "1      2021-12-08              Why Ukraine Matters to Vladimir Putin   \n",
      "29     2021-12-08                           推特迎新掌门人，印度为何「盛产」硅谷 CEO ？   \n",
      "7      2021-12-07            Why Women Seek Abortions After 15 Weeks   \n",
      "15     2021-12-07           Babbage: Goodbye darkness, my old friend   \n",
      "16     2021-12-07  Off the warpath: America 80 years after Pearl ...   \n",
      "2      2021-12-07    A New Strategy for Prosecuting School Shootings   \n",
      "8      2021-12-06              The High Cost Of Vaccine Conspiracies   \n",
      "17     2021-12-06                        The World Ahead: Year three   \n",
      "18     2021-12-06  The first sentence of the story: Aung San Suu Kyi   \n",
      "3      2021-12-06                     The Trial of Ghislaine Maxwell   \n",
      "19     2021-12-06                  Editor’s Picks: December 6th 2021   \n",
      "4      2021-12-05  The Sunday Read: ‘The Emily Ratajkowski You’ll...   \n",
      "9      2021-12-03                       Weekly Roundup: December 3rd   \n",
      "20     2021-12-03           Checks and Balance: Courting controversy   \n",
      "21     2021-12-03    Taiwan thing after another: the Solomon Islands   \n",
      "5      2021-12-03            The Life and Legacy of Stephen Sondheim   \n",
      "10     2021-12-02  Why Two Experts Think The Supreme Court Is Pre...   \n",
      "22     2021-12-02                    The Economist Asks: Eric Cantor   \n",
      "23     2021-12-02            Roe blow? SCOTUS weighs abortion rights   \n",
      "11     2021-12-01  The Big Consequences Of Small Changes To Congr...   \n",
      "24     2021-12-01                          Money Talks: Omicronomics   \n",
      "25     2021-12-01  The house that Jack built: Twitter’s founder d...   \n",
      "26     2021-11-30                            Babbage: Omicron and on   \n",
      "27     2021-11-30      Centrifugal forces: Iran nuclear talks resume   \n",
      "28     2021-11-29          The World Ahead: The eagle and the dragon   \n",
      "\n",
      "   Episode Duration                                           MP3 Link  \n",
      "6              1615  https://play.podtrac.com/npr-510310/edge1.pod....  \n",
      "12         00:39:24  https://sphinx.acast.com/theeconomistallaudio/...  \n",
      "30              189  https://api.spreaker.com/download/episode/4786...  \n",
      "0          02:08:14  http://traffic.libsyn.com/bankless/2021.12.9_W...  \n",
      "13         00:24:07  https://sphinx.acast.com/theeconomistallaudio/...  \n",
      "14         00:22:55  https://sphinx.acast.com/theeconomistallaudio/...  \n",
      "1          00:26:03  https://dts.podtrac.com/redirect.mp3/chrt.fm/t...  \n",
      "29            16:05  https://aphid.fireside.fm/d/1437767933/1264759...  \n",
      "7               855  https://play.podtrac.com/npr-510310/edge1.pod....  \n",
      "15         00:29:19  https://sphinx.acast.com/theeconomistallaudio/...  \n",
      "16         00:22:48  https://sphinx.acast.com/theeconomistallaudio/...  \n",
      "2          00:23:29  https://dts.podtrac.com/redirect.mp3/chrt.fm/t...  \n",
      "8               925  https://play.podtrac.com/npr-510310/edge1.pod....  \n",
      "17         00:26:54  https://sphinx.acast.com/theeconomistallaudio/...  \n",
      "18         00:22:11  https://sphinx.acast.com/theeconomistallaudio/...  \n",
      "3          00:32:59  https://dts.podtrac.com/redirect.mp3/chrt.fm/t...  \n",
      "19         00:23:40  https://sphinx.acast.com/theeconomistallaudio/...  \n",
      "4          00:37:28  https://dts.podtrac.com/redirect.mp3/chrt.fm/t...  \n",
      "9              1494  https://play.podtrac.com/npr-510310/edge1.pod....  \n",
      "20         00:42:11  https://sphinx.acast.com/theeconomistallaudio/...  \n",
      "21         00:20:44  https://sphinx.acast.com/theeconomistallaudio/...  \n",
      "5          00:34:32  https://dts.podtrac.com/redirect.mp3/chrt.fm/t...  \n",
      "10              832  https://play.podtrac.com/npr-510310/edge1.pod....  \n",
      "22         00:27:04  https://sphinx.acast.com/theeconomistallaudio/...  \n",
      "23         00:24:02  https://sphinx.acast.com/theeconomistallaudio/...  \n",
      "11              894  https://play.podtrac.com/npr-510310/edge1.pod....  \n",
      "24         00:31:01  https://sphinx.acast.com/theeconomistallaudio/...  \n",
      "25         00:19:35  https://sphinx.acast.com/theeconomistallaudio/...  \n",
      "26         00:28:32  https://sphinx.acast.com/theeconomistallaudio/...  \n",
      "27         00:22:51  https://sphinx.acast.com/theeconomistallaudio/...  \n",
      "28         00:22:53  https://sphinx.acast.com/theeconomistallaudio/...  \n",
      "\u001b[0m\n"
     ]
    },
    {
     "data": {
      "text/html": [
       "<pre style=\"white-space:pre;overflow-x:auto;line-height:normal;font-family:Menlo,'DejaVu Sans Mono',consolas,'Courier New',monospace\">Total listening time: <span style=\"color: #008080; text-decoration-color: #008080; font-weight: bold\">14</span> hours <span style=\"color: #008080; text-decoration-color: #008080; font-weight: bold\">22</span> minutes <span style=\"color: #008080; text-decoration-color: #008080; font-weight: bold\">25</span> seconds\n",
       "</pre>\n"
      ],
      "text/plain": [
       "Total listening time: \u001b[1;36m14\u001b[0m hours \u001b[1;36m22\u001b[0m minutes \u001b[1;36m25\u001b[0m seconds\n"
      ]
     },
     "metadata": {},
     "output_type": "display_data"
    },
    {
     "name": "stdout",
     "output_type": "stream",
     "text": [
      "\u001b[1m\u001b[34m🎧 🎧 ================================================================= 🎧 🎧\u001b[0m\n"
     ]
    }
   ],
   "source": [
    "%load_ext lab_black\n",
    "from player import (\n",
    "    get_all_episodes,\n",
    "    get_played_episodes_from_pickle,\n",
    "    save_played_to_excel,\n",
    ")\n",
    "\n",
    "all_episodes_df = get_all_episodes()\n",
    "played_episodes_list = get_played_episodes_from_pickle()\n",
    "played_episodes_df = save_played_to_excel()"
   ]
  },
  {
   "cell_type": "code",
   "execution_count": 3,
   "metadata": {},
   "outputs": [
    {
     "data": {
      "text/html": [
       "<div>\n",
       "<style scoped>\n",
       "    .dataframe tbody tr th:only-of-type {\n",
       "        vertical-align: middle;\n",
       "    }\n",
       "\n",
       "    .dataframe tbody tr th {\n",
       "        vertical-align: top;\n",
       "    }\n",
       "\n",
       "    .dataframe thead th {\n",
       "        text-align: right;\n",
       "    }\n",
       "</style>\n",
       "<table border=\"1\" class=\"dataframe\">\n",
       "  <thead>\n",
       "    <tr style=\"text-align: right;\">\n",
       "      <th></th>\n",
       "      <th>Published Date</th>\n",
       "      <th>Title</th>\n",
       "      <th>Episode Duration</th>\n",
       "      <th>MP3 Link</th>\n",
       "    </tr>\n",
       "  </thead>\n",
       "  <tbody>\n",
       "    <tr>\n",
       "      <th>6</th>\n",
       "      <td>2021-12-10</td>\n",
       "      <td>Weekly Roundup: Texas' 6-Week Abortion Ban Wil...</td>\n",
       "      <td>1615</td>\n",
       "      <td>https://play.podtrac.com/npr-510310/edge1.pod....</td>\n",
       "    </tr>\n",
       "    <tr>\n",
       "      <th>12</th>\n",
       "      <td>2021-12-10</td>\n",
       "      <td>Checks and Balance: Taiwan wonder</td>\n",
       "      <td>00:39:24</td>\n",
       "      <td>https://sphinx.acast.com/theeconomistallaudio/...</td>\n",
       "    </tr>\n",
       "    <tr>\n",
       "      <th>30</th>\n",
       "      <td>2021-12-10</td>\n",
       "      <td>The Catch Up: 10 December</td>\n",
       "      <td>189</td>\n",
       "      <td>https://api.spreaker.com/download/episode/4786...</td>\n",
       "    </tr>\n",
       "    <tr>\n",
       "      <th>0</th>\n",
       "      <td>2021-12-10</td>\n",
       "      <td>ROLLUP: Vitalik's Endgame, Pepsi &amp; Adidas NFTs...</td>\n",
       "      <td>02:08:14</td>\n",
       "      <td>http://traffic.libsyn.com/bankless/2021.12.9_W...</td>\n",
       "    </tr>\n",
       "    <tr>\n",
       "      <th>13</th>\n",
       "      <td>2021-12-10</td>\n",
       "      <td>Unsafe as houses? Evergrande and China’s big p...</td>\n",
       "      <td>00:24:07</td>\n",
       "      <td>https://sphinx.acast.com/theeconomistallaudio/...</td>\n",
       "    </tr>\n",
       "  </tbody>\n",
       "</table>\n",
       "</div>"
      ]
     },
     "metadata": {},
     "output_type": "display_data"
    }
   ],
   "source": [
    "from IPython.display import display\n",
    "\n",
    "display(played_episodes_df.head(5))"
   ]
  },
  {
   "cell_type": "code",
   "execution_count": 5,
   "metadata": {},
   "outputs": [
    {
     "data": {
      "text/html": [
       "<pre style=\"white-space:pre;overflow-x:auto;line-height:normal;font-family:Menlo,'DejaVu Sans Mono',consolas,'Courier New',monospace\">\n",
       "<span style=\"font-weight: bold\">[</span>\n",
       "    <span style=\"color: #008000; text-decoration-color: #008000\">'https://play.podtrac.com/npr-510310/edge1.pod.npr.org/anon.npr-mp3/npr/nprpolitics/2021/12/20211210_nprpolitics_121021politicspodcast.mp3?awCollectionId=510310&amp;awEpisodeId=1063174739&amp;orgId=1&amp;d=1615&amp;p=510310&amp;story=1063174739&amp;t=podcast&amp;e=1063174739&amp;size=25840789&amp;ft=pod&amp;f=510310'</span>,\n",
       "    <span style=\"color: #008000; text-decoration-color: #008000\">'https://sphinx.acast.com/theeconomistallaudio/checksandbalance/checksandbalance-taiwanwonder/media.mp3'</span>,\n",
       "    <span style=\"color: #008000; text-decoration-color: #008000\">'https://api.spreaker.com/download/episode/47867663/catch_up_2021_december_10_v1.mp3'</span>,\n",
       "    <span style=\"color: #008000; text-decoration-color: #008000\">'http://traffic.libsyn.com/bankless/2021.12.9_WRU_December_2.mp3?dest-id=1859771'</span>,\n",
       "    <span style=\"color: #008000; text-decoration-color: #008000\">'https://sphinx.acast.com/theeconomistallaudio/theintelligencepodcast/unsafeashouses-evergrandeandchina-sbigplans/media.mp3'</span>\n",
       "<span style=\"font-weight: bold\">]</span>\n",
       "</pre>\n"
      ],
      "text/plain": [
       "\n",
       "\u001b[1m[\u001b[0m\n",
       "    \u001b[32m'https://play.podtrac.com/npr-510310/edge1.pod.npr.org/anon.npr-mp3/npr/nprpolitics/2021/12/20211210_nprpolitics_121021politicspodcast.mp3?\u001b[0m\u001b[32mawCollectionId\u001b[0m\u001b[32m=\u001b[0m\u001b[32m510310\u001b[0m\u001b[32m&\u001b[0m\u001b[32mawEpisodeId\u001b[0m\u001b[32m=\u001b[0m\u001b[32m1063174739\u001b[0m\u001b[32m&\u001b[0m\u001b[32morgId\u001b[0m\u001b[32m=\u001b[0m\u001b[32m1\u001b[0m\u001b[32m&\u001b[0m\u001b[32md\u001b[0m\u001b[32m=\u001b[0m\u001b[32m1615\u001b[0m\u001b[32m&\u001b[0m\u001b[32mp\u001b[0m\u001b[32m=\u001b[0m\u001b[32m510310\u001b[0m\u001b[32m&\u001b[0m\u001b[32mstory\u001b[0m\u001b[32m=\u001b[0m\u001b[32m1063174739\u001b[0m\u001b[32m&\u001b[0m\u001b[32mt\u001b[0m\u001b[32m=\u001b[0m\u001b[32mpodcast\u001b[0m\u001b[32m&\u001b[0m\u001b[32me\u001b[0m\u001b[32m=\u001b[0m\u001b[32m1063174739\u001b[0m\u001b[32m&\u001b[0m\u001b[32msize\u001b[0m\u001b[32m=\u001b[0m\u001b[32m25840789\u001b[0m\u001b[32m&\u001b[0m\u001b[32mft\u001b[0m\u001b[32m=\u001b[0m\u001b[32mpod\u001b[0m\u001b[32m&\u001b[0m\u001b[32mf\u001b[0m\u001b[32m=\u001b[0m\u001b[32m510310\u001b[0m\u001b[32m'\u001b[0m,\n",
       "    \u001b[32m'https://sphinx.acast.com/theeconomistallaudio/checksandbalance/checksandbalance-taiwanwonder/media.mp3'\u001b[0m,\n",
       "    \u001b[32m'https://api.spreaker.com/download/episode/47867663/catch_up_2021_december_10_v1.mp3'\u001b[0m,\n",
       "    \u001b[32m'http://traffic.libsyn.com/bankless/2021.12.9_WRU_December_2.mp3?dest-\u001b[0m\u001b[32mid\u001b[0m\u001b[32m=\u001b[0m\u001b[32m1859771\u001b[0m\u001b[32m'\u001b[0m,\n",
       "    \u001b[32m'https://sphinx.acast.com/theeconomistallaudio/theintelligencepodcast/unsafeashouses-evergrandeandchina-sbigplans/media.mp3'\u001b[0m\n",
       "\u001b[1m]\u001b[0m\n"
      ]
     },
     "metadata": {},
     "output_type": "display_data"
    }
   ],
   "source": [
    "played_episodes_df.head(5)[\"MP3 Link\"].tolist()"
   ]
  },
  {
   "cell_type": "code",
   "execution_count": 10,
   "metadata": {},
   "outputs": [
    {
     "name": "stdout",
     "output_type": "stream",
     "text": [
      "Unplaying: http://traffic.libsyn.com/bankless/2021.12.9_WRU_December_2.mp3?dest-id=1859771\n",
      "Existing. \n",
      "29\n"
     ]
    }
   ],
   "source": [
    "def remove_unplaying_episode(unplaying):\n",
    "    played_episodes_set = set(played_episodes)\n",
    "    if unplaying in played_episodes_set:\n",
    "        print(\"Existing. \")\n",
    "        played_episodes_set.remove(unplaying)\n",
    "    PLAYED_EPISODES_PICKLE = \"played_episodes.pkl\"\n",
    "    open_file = open(PLAYED_EPISODES_PICKLE, \"wb\")\n",
    "    pickle.dump(list(played_episodes_set), open_file)\n",
    "    open_file.close()\n",
    "    print(len(played_episodes_set))\n",
    "\n",
    "\n",
    "# unplaying = \"https://sphinx.acast.com/theeconomistallaudio/theintelligencepodcast/roeblow-scotusweighsabortionrights/media.mp3\"\n",
    "# unplaying = \"https://sphinx.acast.com/theeconomistallaudio/theeconomistmoneytalks/moneytalks-omicronomics/media.mp3\"\n",
    "# unplaying = \"https://dts.podtrac.com/redirect.mp3/chrt.fm/track/8DB4DB/pdst.fm/e/nyt.simplecastaudio.com/03d8b493-87fc-4bd1-931f-8a8e9b945d8a/episodes/e7d47081-01f3-426c-8f22-c117171ba5f5/audio/128/default.mp3?aid=rss_feed&awCollectionId=03d8b493-87fc-4bd1-931f-8a8e9b945d8a&awEpisodeId=e7d47081-01f3-426c-8f22-c117171ba5f5&feed=54nAGcIl\"\n",
    "unplaying = (\n",
    "    \"http://traffic.libsyn.com/bankless/2021.12.9_WRU_December_2.mp3?dest-id=1859771\"\n",
    ")\n",
    "print(f\"Unplaying: {unplaying}\")\n",
    "remove_unplaying_episode(unplaying=unplaying)"
   ]
  },
  {
   "cell_type": "code",
   "execution_count": null,
   "metadata": {},
   "outputs": [],
   "source": [
    "print(\"https://dts.podtrac.com/redirect.mp3/chrt.fm/track/8DB4DB/pdst.fm/e/nyt.simplecastaudio.com/03d8b493-87fc-4bd1-931f-8a8e9b945d8a/episodes/e7d47081-01f3-426c-8f22-c117\n",
    "171ba5f5/audio/128/default.mp3?aid=rss_feed&awCollectionId=03d8b493-87fc-4bd1-931f-8a8e9b945d8a&awEpisodeId=e7d47081-01f3-426c-8f22-c117171ba5f5&feed=54nAGcIl\")"
   ]
  },
  {
   "cell_type": "code",
   "execution_count": null,
   "metadata": {},
   "outputs": [],
   "source": [
    "import pickle\n",
    "\n",
    "\n",
    "def update_played_episodes(playing):\n",
    "    played_episodes_set = set(played_episodes)\n",
    "    played_episodes_set.add(playing)\n",
    "    PLAYED_EPISODES_PICKLE = \"played_episodes.pkl\"\n",
    "    open_file = open(PLAYED_EPISODES_PICKLE, \"wb\")\n",
    "    pickle.dump(list(played_episodes_set), open_file)\n",
    "    open_file.close()\n",
    "    print(len(played_episodes_set))\n",
    "    print(played_episodes_set)\n",
    "\n",
    "\n",
    "# unplaying = \"https://sphinx.acast.com/theeconomistallaudio/theintelligencepodcast/roeblow-scotusweighsabortionrights/media.mp3\"\n",
    "# unplaying = \"https://sphinx.acast.com/theeconomistallaudio/theeconomistmoneytalks/moneytalks-omicronomics/media.mp3\"\n",
    "unplaying = \"https://sphinx.acast.com/theeconomistallaudio/theeconomistbabbage/babbage-omicronandon/media.mp3\"\n",
    "update_played_episodes(playing=unplaying)"
   ]
  },
  {
   "cell_type": "code",
   "execution_count": null,
   "metadata": {},
   "outputs": [],
   "source": [
    "import vlc\n",
    "\n",
    "\n",
    "def play_latest_unplayed_episode():\n",
    "    to_play = unplayed_episodes[1]\n",
    "    print(to_play)\n",
    "    p = vlc.MediaPlayer(to_play)\n",
    "    p.play()\n",
    "    return p\n",
    "\n",
    "\n",
    "play_latest_unplayed_episode()"
   ]
  },
  {
   "cell_type": "code",
   "execution_count": null,
   "metadata": {},
   "outputs": [],
   "source": [
    "import datetime\n",
    "\n",
    "\n",
    "def get_episode_length(episode):\n",
    "    milliseconds = episode.get_length()\n",
    "    duration = datetime.timedelta(milliseconds=milliseconds)\n",
    "    print(str(duration))\n",
    "    return milliseconds"
   ]
  },
  {
   "cell_type": "code",
   "execution_count": null,
   "metadata": {},
   "outputs": [],
   "source": [
    "p.stop()\n",
    "# d = datetime.timedelta(milliseconds=418235000)"
   ]
  },
  {
   "cell_type": "code",
   "execution_count": null,
   "metadata": {},
   "outputs": [],
   "source": [
    "to_play_local_file_name = \"-\".join(to_play.split(\"/\")[-2:])"
   ]
  },
  {
   "cell_type": "code",
   "execution_count": null,
   "metadata": {},
   "outputs": [],
   "source": [
    "import requests\n",
    "\n",
    "doc = requests.get(to_play)\n",
    "with open(to_play_local_file_name, \"wb\") as f:\n",
    "    f.write(doc.content)"
   ]
  },
  {
   "cell_type": "code",
   "execution_count": null,
   "metadata": {},
   "outputs": [],
   "source": [
    "import mutagen\n",
    "from mutagen.mp3 import MP3\n",
    "\n",
    "audio = MP3(to_play_local_file_name)\n",
    "# print(audio.info.length)\n",
    "def audio_duration(length):\n",
    "    hours = length // 3600  # calculate in hours\n",
    "    length %= 3600\n",
    "    mins = length // 60  # calculate in minutes\n",
    "    length %= 60\n",
    "    seconds = length  # calculate in seconds\n",
    "    print(\"Total Duration: {}:{}:{}\".format(hours, mins, seconds))\n",
    "    return hours, mins, seconds  # returns the duration\n",
    "\n",
    "\n",
    "audio_info = audio.info\n",
    "length = int(audio_info.length)\n",
    "hours, mins, seconds = audio_duration(length)"
   ]
  },
  {
   "cell_type": "code",
   "execution_count": null,
   "metadata": {},
   "outputs": [],
   "source": [
    "audio_duration(length=99206463)"
   ]
  },
  {
   "cell_type": "code",
   "execution_count": null,
   "metadata": {},
   "outputs": [],
   "source": [
    "played_episodes = get_played_episodes()\n",
    "played_episodes"
   ]
  },
  {
   "cell_type": "code",
   "execution_count": null,
   "metadata": {},
   "outputs": [],
   "source": [
    "%load_ext lab_black\n",
    "from pyfiglet import Figlet\n",
    "from rich import pretty, print\n",
    "from termcolor import colored, cprint\n",
    "import numpy as np\n",
    "\n",
    "pretty.install()\n",
    "\n",
    "f = Figlet(font=\"big\")\n",
    "color = list(np.random.choice(range(256), size=3))\n",
    "print_in_color = lambda x: cprint(x, \"blue\", \"on_white\", attrs=[\"bold\"])\n",
    "print_in_color(\"Max Podcast Player\")\n",
    "print_in_color(f.renderText(\"Max Podcast Player\"))"
   ]
  },
  {
   "cell_type": "code",
   "execution_count": null,
   "metadata": {},
   "outputs": [],
   "source": [
    "%load_ext lab_black\n",
    "import emoji\n",
    "\n",
    "print_in_color(emoji.emojize(\":headphone: Max Podcast Player :headphone:\"))"
   ]
  },
  {
   "cell_type": "code",
   "execution_count": null,
   "metadata": {},
   "outputs": [],
   "source": []
  }
 ],
 "metadata": {
  "kernelspec": {
   "display_name": "Python 3 (ipykernel)",
   "language": "python",
   "name": "python3"
  },
  "language_info": {
   "codemirror_mode": {
    "name": "ipython",
    "version": 3
   },
   "file_extension": ".py",
   "mimetype": "text/x-python",
   "name": "python",
   "nbconvert_exporter": "python",
   "pygments_lexer": "ipython3",
   "version": "3.9.9"
  }
 },
 "nbformat": 4,
 "nbformat_minor": 4
}
